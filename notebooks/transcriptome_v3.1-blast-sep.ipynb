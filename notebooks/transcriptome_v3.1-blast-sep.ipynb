{
 "cells": [
  {
   "cell_type": "markdown",
   "metadata": {},
   "source": [
    "## Notebook to get the transcriptome `blast` output from v 3.1 to a useable version (blast_sep) "
   ]
  },
  {
   "cell_type": "code",
   "execution_count": 1,
   "metadata": {},
   "outputs": [
    {
     "data": {
      "text/plain": [
       "'/Users/graciecrandall/Documents/GitHub/paper-crab/notebooks'"
      ]
     },
     "execution_count": 1,
     "metadata": {},
     "output_type": "execute_result"
    }
   ],
   "source": [
    "pwd"
   ]
  },
  {
   "cell_type": "code",
   "execution_count": 2,
   "metadata": {
    "collapsed": true
   },
   "outputs": [],
   "source": [
    "wd = \"../analyses\""
   ]
  },
  {
   "cell_type": "code",
   "execution_count": 3,
   "metadata": {},
   "outputs": [
    {
     "name": "stdout",
     "output_type": "stream",
     "text": [
      "/Users/graciecrandall/Documents/GitHub/paper-crab/analyses\n"
     ]
    }
   ],
   "source": [
    "cd $wd"
   ]
  },
  {
   "cell_type": "code",
   "execution_count": 4,
   "metadata": {},
   "outputs": [
    {
     "name": "stdout",
     "output_type": "stream",
     "text": [
      "  % Total    % Received % Xferd  Average Speed   Time    Time     Time  Current\n",
      "                                 Dload  Upload   Total   Spent    Left  Speed\n",
      "  0     0    0     0    0     0      0      0 --:--:--  0:00:01 --:--:--     0\n",
      "curl: (60) SSL certificate problem: certificate has expired\n",
      "More details here: https://curl.haxx.se/docs/sslcerts.html\n",
      "\n",
      "curl performs SSL certificate verification by default, using a \"bundle\"\n",
      " of Certificate Authority (CA) public keys (CA certs). If the default\n",
      " bundle file isn't adequate, you can specify an alternate file\n",
      " using the --cacert option.\n",
      "If this HTTPS server uses a certificate signed by a CA represented in\n",
      " the bundle, the certificate verification probably failed due to a\n",
      " problem with the certificate (it might be expired, or the name might\n",
      " not match the domain name in the URL).\n",
      "If you'd like to turn off curl's verification of the certificate, use\n",
      " the -k (or --insecure) option.\n"
     ]
    }
   ],
   "source": [
    "!curl https://gannet.fish.washington.edu/Atumefaciens/20200608_cbai_diamond_blastx_v2.1_v3.1/cbai_transcriptome_v3.1.blastx.outfmt6 \\\n",
    "-o 20200608.C_bairdi.Trinity.blastx.outfmt6"
   ]
  },
  {
   "cell_type": "code",
   "execution_count": 7,
   "metadata": {},
   "outputs": [
    {
     "name": "stdout",
     "output_type": "stream",
     "text": [
      "\u001b[34mBLAST-to-GOslim\u001b[m\u001b[m\r\n",
      "DAVID-enrich-temp.txt\r\n",
      "DEG-ABCGHI.tab\r\n",
      "DEG-ABCGHI.txt\r\n",
      "DEG-infection.tab\r\n",
      "DEG-infection.txt\r\n",
      "DEG-temperature.tab\r\n",
      "DEG-temperature.txt\r\n",
      "DEGlist-abcghi-daytemp.tab\r\n",
      "DEGlist-abcghi-daytemp.txt\r\n",
      "DEGlist-contrast-temp-libs8-11_counts.tab\r\n",
      "DEGlist-contrast_temp-libs8-11.tab\r\n",
      "DEGlist-contrast_temp-libs8-11.txt\r\n",
      "DEGlist-contrasttemp-annot.tab\r\n",
      "DEGlist-inf-temp-libs8-11_counts.tab\r\n",
      "DEGlist-infection_temp-annot.tab\r\n",
      "DEGlist-infection_temp-libs8-11.tab\r\n",
      "DEGlist-infection_temp-libs8-11.txt\r\n",
      "annot_DEGlist-ABCGHI.tab\r\n",
      "annot_infection-DEGlist.tab\r\n",
      "crab-survival-data.txt\r\n",
      "crab17GOIDs.tab\r\n",
      "crab2GOIDs.tab\r\n",
      "crabC-heatmap-cluster-genes.tab\r\n",
      "crabC-heatmap-genecluster-DAVID-output.txt\r\n",
      "crabC17_clustgenes_GO.tab\r\n",
      "crabC2_clustgenes_GO.tab\r\n",
      "crabE-heatmap-cluster-genes.tab\r\n",
      "crabE17GOIDs.tab\r\n",
      "crabE17_clustgenes_GO.tab\r\n",
      "crabE17_goIDs-col.txt\r\n",
      "crabE17newlist.txt\r\n",
      "crabE2GOIDs.tab\r\n",
      "crabE2_clustgenes_GO.tab\r\n",
      "crabE2_goIDs-col.txt\r\n",
      "crabE2newlist.txt\r\n",
      "crabc17_goIDs-col.txt\r\n",
      "crabc17newlist.txt\r\n",
      "crabc2_goIDs-col.txt\r\n",
      "crabc2newlist.txt\r\n",
      "deseq2.res-ABCGHI.tab\r\n",
      "deseq2.res-infection.tab\r\n",
      "deseq2.res-temp.tab\r\n",
      "deseq2.res.tab\r\n",
      "individual-crab-counts-annot.tab\r\n",
      "individual-crab-counts-annot.txt\r\n",
      "individual-crab-isoform-counts-log.txt\r\n",
      "individual_crab-isoform-log-matrix.txt\r\n",
      "infectiondavid-for-revigo.csv\r\n",
      "kallisto-0618.isoform.TMM.EXPR.matrix\r\n",
      "kallisto-0618.isoform.TPM.not_cross_norm\r\n",
      "kallisto-0618.isoform.TPM.not_cross_norm.TMM_info.txt\r\n",
      "kallisto-0618.isoform.TPM.not_cross_norm.runTMM.R\r\n",
      "kallisto-0618.isoform.counts.matrix\r\n",
      "make-GOslim-pie.xlsx\r\n",
      "pool_temp-annot_DEGlist.tab\r\n",
      "readme.md\r\n",
      "stress-response-genes.tab\r\n",
      "tempDEG-genecounts.tab\r\n",
      "temp_DEGlist-counts-log.txt\r\n",
      "temp_DEGlist-counts.tab\r\n",
      "tempdavid-for-revigo.csv\r\n",
      "transcriptome-blast-GO.tab\r\n"
     ]
    }
   ],
   "source": [
    "!ls"
   ]
  },
  {
   "cell_type": "code",
   "execution_count": null,
   "metadata": {
    "collapsed": true
   },
   "outputs": [],
   "source": []
  }
 ],
 "metadata": {
  "kernelspec": {
   "display_name": "Python [default]",
   "language": "python",
   "name": "python3"
  },
  "language_info": {
   "codemirror_mode": {
    "name": "ipython",
    "version": 3
   },
   "file_extension": ".py",
   "mimetype": "text/x-python",
   "name": "python",
   "nbconvert_exporter": "python",
   "pygments_lexer": "ipython3",
   "version": "3.5.3"
  }
 },
 "nbformat": 4,
 "nbformat_minor": 2
}
