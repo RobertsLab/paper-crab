{
 "cells": [
  {
   "cell_type": "markdown",
   "metadata": {},
   "source": [
    "## Notebook to get the transcriptome `blast` output from v 3.1 to a useable version (blast_sep) "
   ]
  },
  {
   "cell_type": "code",
   "execution_count": 1,
   "metadata": {},
   "outputs": [
    {
     "data": {
      "text/plain": [
       "'/Users/graciecrandall/Documents/GitHub/paper-crab/notebooks'"
      ]
     },
     "execution_count": 1,
     "metadata": {},
     "output_type": "execute_result"
    }
   ],
   "source": [
    "pwd"
   ]
  },
  {
   "cell_type": "code",
   "execution_count": 2,
   "metadata": {
    "collapsed": true
   },
   "outputs": [],
   "source": [
    "wd = \"../analyses\""
   ]
  },
  {
   "cell_type": "code",
   "execution_count": 3,
   "metadata": {},
   "outputs": [
    {
     "name": "stdout",
     "output_type": "stream",
     "text": [
      "/Users/graciecrandall/Documents/GitHub/paper-crab/analyses\n"
     ]
    }
   ],
   "source": [
    "cd $wd"
   ]
  },
  {
   "cell_type": "code",
   "execution_count": 4,
   "metadata": {},
   "outputs": [
    {
     "name": "stdout",
     "output_type": "stream",
     "text": [
      "  % Total    % Received % Xferd  Average Speed   Time    Time     Time  Current\n",
      "                                 Dload  Upload   Total   Spent    Left  Speed\n",
      "100 4391k  100 4391k    0     0  3217k      0  0:00:01  0:00:01 --:--:-- 3760k\n"
     ]
    }
   ],
   "source": [
    "!curl --insecure https://gannet.fish.washington.edu/Atumefaciens/20200608_cbai_diamond_blastx_v2.1_v3.1/cbai_transcriptome_v3.1.blastx.outfmt6 \\\n",
    "-o 20200608.C_bairdi.Trinity.blastx.outfmt6"
   ]
  },
  {
   "cell_type": "code",
   "execution_count": 5,
   "metadata": {},
   "outputs": [
    {
     "name": "stdout",
     "output_type": "stream",
     "text": [
      "20200608.C_bairdi.Trinity.blastx.outfmt6\r\n",
      "\u001b[34mBLAST-to-GOslim\u001b[m\u001b[m\r\n",
      "DAVID-enrich-temp.txt\r\n",
      "DEG-ABCGHI.tab\r\n",
      "DEG-ABCGHI.txt\r\n",
      "DEG-infection.tab\r\n",
      "DEG-infection.txt\r\n",
      "DEG-temperature.tab\r\n",
      "DEG-temperature.txt\r\n",
      "DEGlist-abcghi-daytemp.tab\r\n",
      "DEGlist-abcghi-daytemp.txt\r\n",
      "DEGlist-contrast-temp-libs8-11_counts.tab\r\n",
      "DEGlist-contrast_temp-libs8-11.tab\r\n",
      "DEGlist-contrast_temp-libs8-11.txt\r\n",
      "DEGlist-contrasttemp-annot.tab\r\n",
      "DEGlist-inf-temp-libs8-11_counts.tab\r\n",
      "DEGlist-infection_temp-annot.tab\r\n",
      "DEGlist-infection_temp-libs8-11.tab\r\n",
      "DEGlist-infection_temp-libs8-11.txt\r\n",
      "annot_DEGlist-ABCGHI.tab\r\n",
      "annot_infection-DEGlist.tab\r\n",
      "crab-survival-data.txt\r\n",
      "crab17GOIDs.tab\r\n",
      "crab2GOIDs.tab\r\n",
      "crabC-heatmap-cluster-genes.tab\r\n",
      "crabC-heatmap-genecluster-DAVID-output.txt\r\n",
      "crabC17_clustgenes_GO.tab\r\n",
      "crabC2_clustgenes_GO.tab\r\n",
      "crabE-heatmap-cluster-genes.tab\r\n",
      "crabE17GOIDs.tab\r\n",
      "crabE17_clustgenes_GO.tab\r\n",
      "crabE17_goIDs-col.txt\r\n",
      "crabE17newlist.txt\r\n",
      "crabE2GOIDs.tab\r\n",
      "crabE2_clustgenes_GO.tab\r\n",
      "crabE2_goIDs-col.txt\r\n",
      "crabE2newlist.txt\r\n",
      "crabc17_goIDs-col.txt\r\n",
      "crabc17newlist.txt\r\n",
      "crabc2_goIDs-col.txt\r\n",
      "crabc2newlist.txt\r\n",
      "deseq2.res-ABCGHI.tab\r\n",
      "deseq2.res-infection.tab\r\n",
      "deseq2.res-temp.tab\r\n",
      "deseq2.res.tab\r\n",
      "individual-crab-counts-annot.tab\r\n",
      "individual-crab-counts-annot.txt\r\n",
      "individual-crab-isoform-counts-log.txt\r\n",
      "individual_crab-isoform-log-matrix.txt\r\n",
      "infectiondavid-for-revigo.csv\r\n",
      "kallisto-0618.isoform.TMM.EXPR.matrix\r\n",
      "kallisto-0618.isoform.TPM.not_cross_norm\r\n",
      "kallisto-0618.isoform.TPM.not_cross_norm.TMM_info.txt\r\n",
      "kallisto-0618.isoform.TPM.not_cross_norm.runTMM.R\r\n",
      "kallisto-0618.isoform.counts.matrix\r\n",
      "make-GOslim-pie.xlsx\r\n",
      "pool_temp-annot_DEGlist.tab\r\n",
      "readme.md\r\n",
      "stress-response-genes.tab\r\n",
      "tempDEG-genecounts.tab\r\n",
      "temp_DEGlist-counts-log.txt\r\n",
      "temp_DEGlist-counts.tab\r\n",
      "tempdavid-for-revigo.csv\r\n",
      "transcriptome-blast-GO.tab\r\n"
     ]
    }
   ],
   "source": [
    "!ls"
   ]
  },
  {
   "cell_type": "code",
   "execution_count": 6,
   "metadata": {
    "collapsed": true
   },
   "outputs": [],
   "source": [
    "#set `blast` output file as a variable\n",
    "blastout=\"20200608.C_bairdi.Trinity.blastx.outfmt6\""
   ]
  },
  {
   "cell_type": "code",
   "execution_count": 7,
   "metadata": {},
   "outputs": [
    {
     "name": "stdout",
     "output_type": "stream",
     "text": [
      "TRINITY_DN5604_c0_g2_i1\tsp|B0KTG8|TRI1_PSEPG\t30.0\t360\t168\t12\t279\t1319\t56\t344\t2.3e-28\t129.0\r\n",
      "TRINITY_DN9_c4_g1_i10\tsp|Q3SWW9|PP1B_BOVIN\t91.8\t184\t15\t0\t2\t553\t134\t317\t1.0e-102\t374.8\r\n"
     ]
    }
   ],
   "source": [
    "!head -2 $blastout"
   ]
  },
  {
   "cell_type": "code",
   "execution_count": 8,
   "metadata": {
    "collapsed": true
   },
   "outputs": [],
   "source": [
    "#convert pipes to tab\n",
    "!tr '|' '\\t' < $blastout \\\n",
    "> _blast-sep-v3.1.tab"
   ]
  },
  {
   "cell_type": "code",
   "execution_count": 9,
   "metadata": {},
   "outputs": [
    {
     "name": "stdout",
     "output_type": "stream",
     "text": [
      "TRINITY_DN5604_c0_g2_i1\tsp\tB0KTG8\tTRI1_PSEPG\t30.0\t360\t168\t12\t279\t1319\t56\t344\t2.3e-28\t129.0\r\n",
      "TRINITY_DN9_c4_g1_i10\tsp\tQ3SWW9\tPP1B_BOVIN\t91.8\t184\t15\t0\t2\t553\t134\t317\t1.0e-102\t374.8\r\n"
     ]
    }
   ],
   "source": [
    "!head -2 _blast-sep-v3.1.tab\n",
    "#commit _blast-sep.tab to directory --> will be used to get list of Trinity_IDs from GOslim 'stress response'"
   ]
  },
  {
   "cell_type": "code",
   "execution_count": null,
   "metadata": {
    "collapsed": true
   },
   "outputs": [],
   "source": []
  }
 ],
 "metadata": {
  "kernelspec": {
   "display_name": "Python [default]",
   "language": "python",
   "name": "python3"
  },
  "language_info": {
   "codemirror_mode": {
    "name": "ipython",
    "version": 3
   },
   "file_extension": ".py",
   "mimetype": "text/x-python",
   "name": "python",
   "nbconvert_exporter": "python",
   "pygments_lexer": "ipython3",
   "version": "3.5.3"
  }
 },
 "nbformat": 4,
 "nbformat_minor": 2
}
