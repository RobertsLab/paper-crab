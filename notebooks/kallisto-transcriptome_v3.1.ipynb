{
 "cells": [
  {
   "cell_type": "markdown",
   "metadata": {},
   "source": [
    "## Notebook for getting library 8-11 count data from transcriptome v 3.1"
   ]
  },
  {
   "cell_type": "markdown",
   "metadata": {},
   "source": [
    "#### Based off of this notebook from Steven: https://github.com/sr320/nb-2020/blob/master/C_bairdi/20-kallisto.ipynb"
   ]
  },
  {
   "cell_type": "code",
   "execution_count": 14,
   "metadata": {},
   "outputs": [
    {
     "name": "stdout",
     "output_type": "stream",
     "text": [
      "kallisto 0.46.1\r\n",
      "\r\n",
      "Usage: kallisto <CMD> [arguments] ..\r\n",
      "\r\n",
      "Where <CMD> can be one of:\r\n",
      "\r\n",
      "    index         Builds a kallisto index \r\n",
      "    quant         Runs the quantification algorithm \r\n",
      "    bus           Generate BUS files for single-cell data \r\n",
      "    pseudo        Runs the pseudoalignment step \r\n",
      "    merge         Merges several batch runs \r\n",
      "    h5dump        Converts HDF5-formatted results to plaintext\r\n",
      "    inspect       Inspects and gives information about an index\r\n",
      "    version       Prints version information\r\n",
      "    cite          Prints citation information\r\n",
      "\r\n",
      "Running kallisto <CMD> without arguments prints usage information for <CMD>\r\n",
      "\r\n"
     ]
    }
   ],
   "source": [
    "!/Applications/bioinfo/kallisto/kallisto"
   ]
  },
  {
   "cell_type": "code",
   "execution_count": 6,
   "metadata": {},
   "outputs": [
    {
     "name": "stdout",
     "output_type": "stream",
     "text": [
      "/Users/graciecrandall/Documents/GitHub/paper-crab/notebooks\r\n"
     ]
    }
   ],
   "source": [
    "!pwd"
   ]
  },
  {
   "cell_type": "code",
   "execution_count": 10,
   "metadata": {
    "scrolled": true
   },
   "outputs": [
    {
     "name": "stdout",
     "output_type": "stream",
     "text": [
      "--2020-06-18 18:41:45--  https://owl.fish.washington.edu/halfshell/genomic-databank/cbai_transcriptome_v3.1.fasta\n",
      "Resolving owl.fish.washington.edu (owl.fish.washington.edu)... 128.95.149.83\n",
      "Connecting to owl.fish.washington.edu (owl.fish.washington.edu)|128.95.149.83|:443... connected.\n",
      "WARNING: cannot verify owl.fish.washington.edu's certificate, issued by ‘CN=InCommon RSA Server CA,OU=InCommon,O=Internet2,L=Ann Arbor,ST=MI,C=US’:\n",
      "  Unable to locally verify the issuer's authority.\n",
      "HTTP request sent, awaiting response... 200 OK\n",
      "Length: 145648199 (139M)\n",
      "Saving to: ‘cbai_transcriptome_v3.1.fasta’\n",
      "\n",
      "cbai_transcriptome_ 100%[===================>] 138.90M  17.3MB/s    in 12s     \n",
      "\n",
      "2020-06-18 18:41:58 (11.2 MB/s) - ‘cbai_transcriptome_v3.1.fasta’ saved [145648199/145648199]\n",
      "\n"
     ]
    }
   ],
   "source": [
    "!wget --no-check-certificate https://owl.fish.washington.edu/halfshell/genomic-databank/cbai_transcriptome_v3.1.fasta"
   ]
  },
  {
   "cell_type": "code",
   "execution_count": 25,
   "metadata": {},
   "outputs": [
    {
     "name": "stdout",
     "output_type": "stream",
     "text": [
      "\n",
      "[build] loading fasta file cbai_transcriptome_v3.1.fasta\n",
      "[build] k-mer length: 31\n",
      "[build] warning: clipped off poly-A tail (longer than 10)\n",
      "        from 12560 target sequences\n",
      "[build] counting k-mers ... done.\n",
      "[build] building target de Bruijn graph ...  done \n",
      "[build] creating equivalence classes ...  done\n",
      "[build] target de Bruijn graph has 303833 contigs and contains 43881871 k-mers \n",
      "\n"
     ]
    }
   ],
   "source": [
    "!/Applications/bioinfo/kallisto/kallisto \\\n",
    "index -i cbai_transcriptome_31 \\\n",
    "cbai_transcriptome_v3.1.fasta"
   ]
  },
  {
   "cell_type": "code",
   "execution_count": 26,
   "metadata": {},
   "outputs": [
    {
     "name": "stdout",
     "output_type": "stream",
     "text": [
      "\n",
      "[quant] fragment length distribution will be estimated from the data\n",
      "[index] k-mer length: 31\n",
      "[index] number of targets: 78,649\n",
      "[index] number of k-mers: 43,881,871\n",
      "[index] number of equivalence classes: 213,585\n",
      "[quant] running in paired-end mode\n",
      "[quant] will process pair 1: /Volumes/web/Atumefaciens/20200414_cbai_RNAseq_fastp_trimming/380822_S3_L001_R1_001.fastp-trim.202004144409.fq.gz\n",
      "                             /Volumes/web/Atumefaciens/20200414_cbai_RNAseq_fastp_trimming/380822_S3_L001_R2_001.fastp-trim.202004144409.fq.gz\n",
      "[quant] finding pseudoalignments for the reads ... done\n",
      "[quant] processed 9,369,940 reads, 6,141,882 reads pseudoaligned\n",
      "[quant] estimated average fragment length: 160.365\n",
      "[   em] quantifying the abundances ... done\n",
      "[   em] the Expectation-Maximization algorithm ran for 1,119 rounds\n",
      "\n"
     ]
    }
   ],
   "source": [
    "!/Applications/bioinfo/kallisto/kallisto quant \\\n",
    "-i /Users/graciecrandall/Documents/GitHub/paper-crab/notebooks/cbai_transcriptome_31 \\\n",
    "-t 4 \\\n",
    "-o kallisto/380822_cold_uninfected/ \\\n",
    "/Volumes/web/Atumefaciens/20200414_cbai_RNAseq_fastp_trimming/380822_S3_L001_R1_001.fastp-trim.202004144409.fq.gz /Volumes/web/Atumefaciens/20200414_cbai_RNAseq_fastp_trimming/380822_S3_L001_R2_001.fastp-trim.202004144409.fq.gz"
   ]
  },
  {
   "cell_type": "code",
   "execution_count": 27,
   "metadata": {},
   "outputs": [
    {
     "name": "stdout",
     "output_type": "stream",
     "text": [
      "\n",
      "[quant] fragment length distribution will be estimated from the data\n",
      "[index] k-mer length: 31\n",
      "[index] number of targets: 78,649\n",
      "[index] number of k-mers: 43,881,871\n",
      "[index] number of equivalence classes: 213,585\n",
      "[quant] running in paired-end mode\n",
      "[quant] will process pair 1: /Volumes/web/Atumefaciens/20200414_cbai_RNAseq_fastp_trimming/380823_S4_L001_R1_001.fastp-trim.202004144852.fq.gz\n",
      "                             /Volumes/web/Atumefaciens/20200414_cbai_RNAseq_fastp_trimming/380823_S4_L001_R2_001.fastp-trim.202004144852.fq.gz\n",
      "[quant] finding pseudoalignments for the reads ... done\n",
      "[quant] processed 8,760,917 reads, 5,426,016 reads pseudoaligned\n",
      "[quant] estimated average fragment length: 164.532\n",
      "[   em] quantifying the abundances ... done\n",
      "[   em] the Expectation-Maximization algorithm ran for 1,250 rounds\n",
      "\n"
     ]
    }
   ],
   "source": [
    "!/Applications/bioinfo/kallisto/kallisto quant \\\n",
    "-i /Users/graciecrandall/Documents/GitHub/paper-crab/notebooks/cbai_transcriptome_31 \\\n",
    "-t 4 \\\n",
    "-o kallisto/380823_cold_infected/ \\\n",
    "/Volumes/web/Atumefaciens/20200414_cbai_RNAseq_fastp_trimming/380823_S4_L001_R1_001.fastp-trim.202004144852.fq.gz /Volumes/web/Atumefaciens/20200414_cbai_RNAseq_fastp_trimming/380823_S4_L001_R2_001.fastp-trim.202004144852.fq.gz"
   ]
  },
  {
   "cell_type": "code",
   "execution_count": 29,
   "metadata": {},
   "outputs": [
    {
     "name": "stdout",
     "output_type": "stream",
     "text": [
      "\n",
      "[quant] fragment length distribution will be estimated from the data\n",
      "[index] k-mer length: 31\n",
      "[index] number of targets: 78,649\n",
      "[index] number of k-mers: 43,881,871\n",
      "^C\n"
     ]
    }
   ],
   "source": [
    "!/Applications/bioinfo/kallisto/kallisto quant \\\n",
    "-i /Users/graciecrandall/Documents/GitHub/paper-crab/notebooks/cbai_transcriptome_31 \\\n",
    "-t 4 \\\n",
    "-o kallisto/380824_warm_uninfected/ \\\n",
    "/Volumes/web/Atumefaciens/20200414_cbai_RNAseq_fastp_trimming/380824_S5_L001_R2_001.fastp-trim.202004145320.fq.gz /Volumes/web/Atumefaciens/20200414_cbai_RNAseq_fastp_trimming/380824_S5_L001_R1_001.fastp-trim.202004145320.fq.gz"
   ]
  },
  {
   "cell_type": "code",
   "execution_count": 30,
   "metadata": {},
   "outputs": [
    {
     "name": "stdout",
     "output_type": "stream",
     "text": [
      "\n",
      "[quant] fragment length distribution will be estimated from the data\n",
      "[index] k-mer length: 31\n",
      "[index] number of targets: 78,649\n",
      "[index] number of k-mers: 43,881,871\n",
      "[index] number of equivalence classes: 213,585\n",
      "[quant] running in paired-end mode\n",
      "[quant] will process pair 1: /Volumes/web/Atumefaciens/20200414_cbai_RNAseq_fastp_trimming/380825_S6_L001_R1_001.fastp-trim.202004145835.fq.gz\n",
      "                             /Volumes/web/Atumefaciens/20200414_cbai_RNAseq_fastp_trimming/380825_S6_L001_R2_001.fastp-trim.202004145835.fq.gz\n",
      "[quant] finding pseudoalignments for the reads ... done\n",
      "[quant] processed 10,184,344 reads, 6,441,322 reads pseudoaligned\n",
      "[quant] estimated average fragment length: 160.804\n",
      "[   em] quantifying the abundances ... done\n",
      "[   em] the Expectation-Maximization algorithm ran for 1,259 rounds\n",
      "\n"
     ]
    }
   ],
   "source": [
    "!/Applications/bioinfo/kallisto/kallisto quant \\\n",
    "-i /Users/graciecrandall/Documents/GitHub/paper-crab/notebooks/cbai_transcriptome_31 \\\n",
    "-t 4 \\\n",
    "-o kallisto/380825_warm_infected/ \\\n",
    "/Volumes/web/Atumefaciens/20200414_cbai_RNAseq_fastp_trimming/380825_S6_L001_R1_001.fastp-trim.202004145835.fq.gz /Volumes/web/Atumefaciens/20200414_cbai_RNAseq_fastp_trimming/380825_S6_L001_R2_001.fastp-trim.202004145835.fq.gz"
   ]
  },
  {
   "cell_type": "markdown",
   "metadata": {},
   "source": [
    "### Creating matrices"
   ]
  },
  {
   "cell_type": "code",
   "execution_count": 32,
   "metadata": {},
   "outputs": [
    {
     "name": "stdout",
     "output_type": "stream",
     "text": [
      "\r\n",
      "####################################################################################\r\n",
      "#\r\n",
      "# Usage:  /Applications/bioinfo/trinityrnaseq-v2.8.6/util/abundance_estimates_to_matrix.pl --est_method <method>  sample1.results sample2.results ...\r\n",
      "#\r\n",
      "#      or  /Applications/bioinfo/trinityrnaseq-v2.8.6/util/abundance_estimates_to_matrix.pl --est_method <method> --quant_files file.listing_target_files.txt\r\n",
      "#\r\n",
      "#      Note, if only a single input file is given, it's expected to contain the paths to all the target abundance estimation files.\r\n",
      "#\r\n",
      "# Required:\r\n",
      "#            \r\n",
      "#  --est_method <string>           RSEM|eXpress|kallisto|salmon  (needs to know what format to expect)\r\n",
      "#\r\n",
      "#  --gene_trans_map <string>           the gene-to-transcript mapping file. (if you don't want gene estimates, indicate 'none'.\r\n",
      "#\r\n",
      "#\r\n",
      "# Options:\r\n",
      "#\r\n",
      "#  --cross_sample_norm <string>         TMM|UpperQuartile|none   (default: TMM)\r\n",
      "#\r\n",
      "#  --name_sample_by_basedir             name sample column by dirname instead of filename\r\n",
      "#      --basedir_index <int>            default(-2)\r\n",
      "#\r\n",
      "#  --out_prefix <string>                default: value for --est_method\r\n",
      "#\r\n",
      "#  --quant_files <string>              file containing a list of all the target files.\r\n",
      "#\r\n",
      "######################################################################################\r\n",
      "\r\n",
      "\r\n"
     ]
    }
   ],
   "source": [
    "!perl /Applications/bioinfo/trinityrnaseq-v2.8.6/util/abundance_estimates_to_matrix.pl"
   ]
  },
  {
   "cell_type": "code",
   "execution_count": 33,
   "metadata": {},
   "outputs": [
    {
     "name": "stdout",
     "output_type": "stream",
     "text": [
      "-reading file: /Users/graciecrandall/Documents/GitHub/paper-crab/notebooks/kallisto/380822_cold_uninfected/abundance.tsv\n",
      "-reading file: /Users/graciecrandall/Documents/GitHub/paper-crab/notebooks/kallisto/380823_cold_infected/abundance.tsv\n",
      "-reading file: /Users/graciecrandall/Documents/GitHub/paper-crab/notebooks/kallisto/380824_warm_uninfected/abundance.tsv\n",
      "-reading file: /Users/graciecrandall/Documents/GitHub/paper-crab/notebooks/kallisto/380825_warm_infected/abundance.tsv\n",
      "\n",
      "\n",
      "* Outputting combined matrix.\n",
      "\n",
      "/Applications/bioinfo/trinityrnaseq-v2.8.6/util/support_scripts/run_TMM_scale_matrix.pl --matrix /Users/graciecrandall/Documents/GitHub/paper-crab/analyses/kallisto-0618.isoform.TPM.not_cross_norm > /Users/graciecrandall/Documents/GitHub/paper-crab/analyses/kallisto-0618.isoform.TMM.EXPR.matrixCMD: R --no-save --no-restore --no-site-file --no-init-file -q < /Users/graciecrandall/Documents/GitHub/paper-crab/analyses/kallisto-0618.isoform.TPM.not_cross_norm.runTMM.R 1>&2 \n",
      "> library(edgeR)\n",
      "Loading required package: limma\n",
      "> \n",
      "> rnaseqMatrix = read.table(\"/Users/graciecrandall/Documents/GitHub/paper-crab/analyses/kallisto-0618.isoform.TPM.not_cross_norm\", header=T, row.names=1, com='', check.names=F)\n",
      "> rnaseqMatrix = as.matrix(rnaseqMatrix)\n",
      "> rnaseqMatrix = round(rnaseqMatrix)\n",
      "> exp_study = DGEList(counts=rnaseqMatrix, group=factor(colnames(rnaseqMatrix)))\n",
      "> exp_study = calcNormFactors(exp_study)\n",
      "> exp_study$samples$eff.lib.size = exp_study$samples$lib.size * exp_study$samples$norm.factors\n",
      "> write.table(exp_study$samples, file=\"/Users/graciecrandall/Documents/GitHub/paper-crab/analyses/kallisto-0618.isoform.TPM.not_cross_norm.TMM_info.txt\", quote=F, sep=\"\\t\", row.names=F)\n",
      "> \n"
     ]
    }
   ],
   "source": [
    "!perl /Applications/bioinfo/trinityrnaseq-v2.8.6/util/abundance_estimates_to_matrix.pl \\\n",
    "--est_method kallisto \\\n",
    "    --gene_trans_map none \\\n",
    "    --out_prefix /Users/graciecrandall/Documents/GitHub/paper-crab/analyses/kallisto-0618 \\\n",
    "    --name_sample_by_basedir \\\n",
    "     /Users/graciecrandall/Documents/GitHub/paper-crab/notebooks/kallisto/380822_cold_uninfected/abundance.tsv \\\n",
    "     /Users/graciecrandall/Documents/GitHub/paper-crab/notebooks/kallisto/380823_cold_infected/abundance.tsv \\\n",
    "     /Users/graciecrandall/Documents/GitHub/paper-crab/notebooks/kallisto/380824_warm_uninfected/abundance.tsv \\\n",
    "     /Users/graciecrandall/Documents/GitHub/paper-crab/notebooks/kallisto/380825_warm_infected/abundance.tsv"
   ]
  },
  {
   "cell_type": "code",
   "execution_count": 34,
   "metadata": {},
   "outputs": [
    {
     "name": "stdout",
     "output_type": "stream",
     "text": [
      "\t380822_cold_uninfected\t380823_cold_infected\t380824_warm_uninfected\t380825_warm_infected\r\n",
      "TRINITY_DN26062_c0_g1_i3\t0\t1.83333\t0\t13.3333\r\n",
      "TRINITY_DN37237_c0_g1_i2\t0\t0\t0\t8\r\n",
      "TRINITY_DN1988_c1_g1_i30\t0\t0\t0\t0\r\n",
      "TRINITY_DN20762_c0_g1_i11\t0\t0\t0\t24.8971\r\n",
      "TRINITY_DN9988_c0_g1_i51\t0\t0\t0\t0\r\n",
      "TRINITY_DN33404_c0_g1_i2\t12\t0\t0\t0\r\n",
      "TRINITY_DN22630_c0_g1_i8\t0\t7.34908\t0.410585\t0\r\n",
      "TRINITY_DN2180_c0_g1_i23\t0\t18\t0\t0\r\n",
      "TRINITY_DN18954_c0_g1_i5\t0\t11.6489\t5.82505\t0\r\n"
     ]
    }
   ],
   "source": [
    "!head /Users/graciecrandall/Documents/GitHub/paper-crab/analyses/kallisto-0618.isoform.counts.matrix"
   ]
  },
  {
   "cell_type": "code",
   "execution_count": null,
   "metadata": {
    "collapsed": true
   },
   "outputs": [],
   "source": []
  }
 ],
 "metadata": {
  "kernelspec": {
   "display_name": "Python [default]",
   "language": "python",
   "name": "python3"
  },
  "language_info": {
   "codemirror_mode": {
    "name": "ipython",
    "version": 3
   },
   "file_extension": ".py",
   "mimetype": "text/x-python",
   "name": "python",
   "nbconvert_exporter": "python",
   "pygments_lexer": "ipython3",
   "version": "3.5.3"
  }
 },
 "nbformat": 4,
 "nbformat_minor": 2
}
